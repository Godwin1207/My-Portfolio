{
 "cells": [
  {
   "cell_type": "markdown",
   "metadata": {},
   "source": [
    "Group 2\n",
    "Godwin Filbert P. Simatupang - 2406425306\n",
    "Kevin S.A Sibarani - 2406421163\n",
    "Althamis Dhiaurrahman Maani - 2406414334\n",
    "Zaid Abdur Razak Satriawan - 2406419026"
   ]
  },
  {
   "cell_type": "code",
   "execution_count": null,
   "metadata": {
    "vscode": {
     "languageId": "plaintext"
    }
   },
   "outputs": [],
   "source": [
    "# Furniture Calculator cost\n",
    "print(\"=== Furniture Cost Calculator ===\")\n",
    "\n",
    "# Input\n",
    "furniture_name = input(\"Enter furniture name: \")\n",
    "price = float(input(\"Enter furniture price (Rp): \"))\n",
    "weight = float(input(\"Enter furniture weight (kg): \"))\n",
    "\n",
    "# Calculate tax\n",
    "if price >= 15000000:\n",
    "    tax = price * 0.10\n",
    "    tax_percentage = 10\n",
    "elif price >= 10000000:\n",
    "    tax = price * 0.075\n",
    "    tax_percentage = 7.5\n",
    "else:\n",
    "    tax = price * 0.05\n",
    "    tax_percentage = 5\n",
    "\n",
    "# Calculate shipping cost\n",
    "if weight >= 30:\n",
    "    shipping_cost = 200000\n",
    "elif weight >= 20:\n",
    "    shipping_cost = 150000\n",
    "else:\n",
    "    shipping_cost = 100000\n",
    "\n",
    "# Calculate discount\n",
    "if price >= 20000000 and weight >= 40:\n",
    "    discount_rate = 0.05  # 5% discount\n",
    "elif price >= 20000000 or weight >= 40:\n",
    "    discount_rate = 0.03  # 3% discount\n",
    "else:\n",
    "    discount_rate = 0\n",
    "\n",
    "# Calculate discount amount\n",
    "discount_amount = (price + tax + shipping_cost) * discount_rate\n",
    "\n",
    "# Calculate total\n",
    "total_cost = price + tax + shipping_cost - discount_amount\n",
    "\n",
    "# Display results\n",
    "print(\"\\n=== Purchase Details ===\")\n",
    "print(f\"Furniture: {furniture_name}\")\n",
    "print(f\"Base Price: Rp {price:,.2f}\")\n",
    "print(f\"Tax ({tax_percentage}%): Rp {tax:,.2f}\")\n",
    "print(f\"Shipping Cost (Weight: {weight} kg): Rp {shipping_cost:,.2f}\")\n",
    "\n",
    "if discount_rate > 0:\n",
    "    print(f\"Discount ({discount_rate*100:.1f}%): Rp {discount_amount:,.2f}\")\n",
    "else:\n",
    "    print(\"No discount applicable\")\n",
    "\n",
    "print(\"\\n=== Final Amount ===\")\n",
    "print(f\"Total Cost: Rp {total_cost:,.2f}\")"
   ]
  },
  {
   "cell_type": "markdown",
   "metadata": {},
   "source": [
    "=== Furniture Cost Calculator ===\n",
    "Enter furniture name: Sofa\n",
    "Enter furniture price (Rp): 20000000\n",
    "Enter furniture weight (kg): 20\n",
    "\n",
    "=== Purchase Details ===\n",
    "Furniture: Sofa\n",
    "Base Price: Rp 20,000,000.00\n",
    "Tax (10%): Rp 2,000,000.00\n",
    "Shipping Cost (Weight: 20.0 kg): Rp 150,000.00\n",
    "Discount (3.0%): Rp 664,500.00\n",
    "\n",
    "=== Final Amount ===\n",
    "Total Cost: Rp 21,485,500.00"
   ]
  }
 ],
 "metadata": {
  "language_info": {
   "name": "python"
  }
 },
 "nbformat": 4,
 "nbformat_minor": 2
}
